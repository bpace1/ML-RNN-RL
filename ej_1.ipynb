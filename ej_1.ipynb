{
  "cells": [
    {
      "cell_type": "markdown",
      "metadata": {
        "id": "JBhhMgBJnMsT"
      },
      "source": [
        "# Trabajo Práctico Nro. 2\n",
        "## Machine Learning 2.\n",
        "### Ejercicio 1.\n",
        "Alumnos:\n",
        "  - Crenna, Giuliano.\n",
        "  - Sancho Almenar, Mariano.\n",
        "  - Pace, Bruno.\n",
        "\n",
        "\n",
        "[![Open In Colab](https://colab.research.google.com/assets/colab-badge.svg)](https://colab.research.google.com/github/bpace1/ML-Redes-Densas-Convolucionales/blob/main/ej1_student_performance.ipynb)"
      ]
    },
    {
      "cell_type": "markdown",
      "metadata": {
        "id": "mT_xLQxMnTpI"
      },
      "source": [
        "# Configuración del entorno"
      ]
    },
    {
      "cell_type": "code",
      "execution_count": null,
      "metadata": {},
      "outputs": [],
      "source": [
        "!export LD_LIBRARY_PATH=/usr/local/cuda/lib64:$LD_LIBRARY_PATH"
      ]
    },
    {
      "cell_type": "code",
      "execution_count": null,
      "metadata": {
        "id": "sp3CUpgEe6-u"
      },
      "outputs": [],
      "source": [
        "# Standard library imports\n",
        "import os\n",
        "import pathlib\n",
        "import urllib.request\n",
        "import zipfile\n",
        "import shutil\n",
        "from pathlib import Path\n",
        "\n",
        "# Third-party imports\n",
        "import matplotlib.pyplot as plt\n",
        "import numpy as np\n",
        "import seaborn as sns\n",
        "import tensorflow as tf\n",
        "import tensorflow_datasets as tfds\n",
        "from IPython import display\n",
        "import librosa\n",
        "\n",
        "# TensorFlow specific imports\n",
        "from tensorflow.keras import layers, models, optimizers\n",
        "\n",
        "# Set the seed value for experiment reproducibility\n",
        "seed = 42\n",
        "tf.random.set_seed(seed)\n",
        "np.random.seed(seed)"
      ]
    },
    {
      "cell_type": "code",
      "execution_count": null,
      "metadata": {
        "colab": {
          "base_uri": "https://localhost:8080/"
        },
        "id": "SxOn-to5e5li",
        "outputId": "a268702a-b5de-4520-af37-d811ef1577cd"
      },
      "outputs": [],
      "source": [
        "# Configurar para que TensorFlow utilice la GPU por defecto\n",
        "gpus = tf.config.experimental.list_physical_devices('GPU')\n",
        "if gpus:\n",
        "    try:\n",
        "        # Configurar para que TensorFlow asigne memoria dinámicamente\n",
        "        for gpu in gpus:\n",
        "            tf.config.experimental.set_memory_growth(gpu, True)\n",
        "        # Especificar la GPU por defecto\n",
        "        logical_gpus = tf.config.experimental.list_logical_devices('GPU')\n",
        "        print(len(gpus), \"Physical GPUs,\", len(logical_gpus), \"Logical GPUs\")\n",
        "    except RuntimeError as e:\n",
        "        # Manejar error\n",
        "        print(e)"
      ]
    },
    {
      "cell_type": "markdown",
      "metadata": {
        "id": "_CND6uEynWs-"
      },
      "source": [
        "# Carga y ADA del dataset"
      ]
    },
    {
      "cell_type": "code",
      "execution_count": null,
      "metadata": {
        "colab": {
          "base_uri": "https://localhost:8080/"
        },
        "id": "Fe_M5GM4hFnd",
        "outputId": "66c812d0-0c98-43cd-dc8d-62d6c4468036"
      },
      "outputs": [],
      "source": [
        "# Configuration\n",
        "DATASET_URL: str = \"https://github.com/Jakobovski/free-spoken-digit-dataset/archive/refs/heads/master.zip\"\n",
        "DATASET_PATH: str = 'data/spoken_digits'\n",
        "RAW_DATA_PATH: str = os.path.join(DATASET_PATH, 'recordings')\n",
        "ZIP_FILE: str = 'spoken_digits.zip'\n",
        "\n",
        "# Create directory structure\n",
        "data_dir = pathlib.Path(DATASET_PATH)\n",
        "data_dir.mkdir(parents=True, exist_ok=True)\n",
        "\n",
        "# Download dataset if not exists\n",
        "if not os.path.exists(RAW_DATA_PATH):\n",
        "    print(\"Downloading the Spoken Digit dataset...\")\n",
        "    urllib.request.urlretrieve(DATASET_URL, ZIP_FILE)\n",
        "\n",
        "    # Extract the zip file\n",
        "    with zipfile.ZipFile(ZIP_FILE, 'r') as zip_ref:\n",
        "        zip_ref.extractall(DATASET_PATH)\n",
        "\n",
        "    # Move recordings to the right place\n",
        "    extracted_folder = os.path.join(DATASET_PATH, 'free-spoken-digit-dataset-master', 'recordings')\n",
        "    shutil.move(extracted_folder, DATASET_PATH)\n",
        "\n",
        "    # Clean up\n",
        "    os.remove(ZIP_FILE)\n",
        "    shutil.rmtree(os.path.join(DATASET_PATH, 'free-spoken-digit-dataset-master'))\n",
        "    print(\"Download and extraction complete!\")\n",
        "else:\n",
        "    print(\"Dataset already downloaded.\")"
      ]
    },
    {
      "cell_type": "code",
      "execution_count": null,
      "metadata": {
        "colab": {
          "base_uri": "https://localhost:8080/"
        },
        "id": "7y7h6QaCjzfW",
        "outputId": "882bc719-8aca-49e4-f675-5525ec43f7e8"
      },
      "outputs": [],
      "source": [
        "def organize_fsdd_dataset(raw_data_path: str, organized_data_path: str) -> None:\n",
        "    \"\"\"Reorganize FSDD into class-based subdirectories\"\"\"\n",
        "\n",
        "    # Create organized directory structure\n",
        "    Path(organized_data_path).mkdir(parents=True, exist_ok=True)\n",
        "\n",
        "    # Create subdirectories for each digit (0-9)\n",
        "    for digit in range(10):\n",
        "        os.makedirs(os.path.join(organized_data_path, str(digit)), exist_ok=True)\n",
        "\n",
        "    # Move files to their respective class directories\n",
        "    for file_path in Path(raw_data_path).glob('*.wav'):\n",
        "        digit = file_path.name.split('_')[0]  # Extract digit from filename\n",
        "        dest_path = os.path.join(organized_data_path, digit, file_path.name)\n",
        "        shutil.move(str(file_path), dest_path)\n",
        "\n",
        "    print(f\"Dataset reorganized into class folders at: {organized_data_path}\")\n",
        "\n",
        "# Paths\n",
        "RAW_DATA_PATH: str = 'data/spoken_digits/recordings'  # From previous download\n",
        "ORGANIZED_DATA_PATH: str = 'data/spoken_digits_organized'\n",
        "\n",
        "# Reorganize the dataset\n",
        "organize_fsdd_dataset(RAW_DATA_PATH, ORGANIZED_DATA_PATH)"
      ]
    },
    {
      "cell_type": "code",
      "execution_count": null,
      "metadata": {
        "id": "ATQmJ3yBtX2A"
      },
      "outputs": [],
      "source": [
        "# audio_structure = {\n",
        "#     # ===== Dataset Metadata =====\n",
        "#     \"dataset\": \"Free Spoken Digit Dataset (FSDD)\",\n",
        "#     \"source\": \"https://github.com/Jakobovski/free-spoken-digit-dataset\",\n",
        "#     \"total_files\": 3000,\n",
        "#     \"classes\": ['0', '1', '2', '3', '4', '5', '6', '7', '8', '9'],\n",
        "#     \"class_distribution\": \"Balanced (300 samples per digit)\",\n",
        "\n",
        "#     # ===== Raw Audio Properties =====\n",
        "#     \"raw_audio\": {\n",
        "#         \"sample_rate\": \"Original (varies by recording)\",\n",
        "#         \"length_stats\": {\n",
        "#             \"min_samples\": 1148,       # ~0.14s at 8kHz\n",
        "#             \"max_samples\": 18262,       # ~2.28s at 8kHz\n",
        "#             \"mean_samples\": 3499,       # ~0.44s at 8kHz\n",
        "#             \"median_samples\": 3358,     # ~0.42s at 8kHz\n",
        "#             \"95th_percentile\": 5299     # ~0.66s at 8kHz\n",
        "#         },\n",
        "#         \"normalization\": \"Not yet applied\",\n",
        "#         \"file_structure\": \"WAV files named {digit}_{speaker}_{index}.wav\"\n",
        "#     },\n",
        "\n",
        "#     # ===== Processed Audio Properties =====\n",
        "#     \"processed_audio\": {\n",
        "#         \"sample_rate\": 8000,            # 8kHz\n",
        "#         \"target_length\": 8000,          # 1 second at 8kHz\n",
        "#         \"normalization\": {\n",
        "#             \"type\": \"Automatic (tf.audio.decode_wav)\",\n",
        "#             \"range\": [-1.0, 1.0],\n",
        "#             \"observed_range\": [-0.586, 0.495]  # Actual min/max in your data\n",
        "#         },\n",
        "#         \"padding\": {\n",
        "#             \"method\": \"Zero-padding\",\n",
        "#             \"position\": \"End-padded\",\n",
        "#             \"truncation\": \"Start-truncated (for clips >8000 samples)\"\n",
        "#         },\n",
        "#         \"final_shape\": {\n",
        "#             \"training_batch\": \"(32, 8000, 1)\",  # (batch, samples, channels)\n",
        "#             \"validation_batch\": \"(32, 8000, 1)\",\n",
        "#             \"element_spec\": {\n",
        "#                 \"audio\": \"TensorSpec(shape=(None, 8000, None), dtype=tf.float32)\",\n",
        "#                 \"labels\": \"TensorSpec(shape=(None, 10), dtype=tf.float32)\"\n",
        "#             }\n",
        "#         }\n",
        "#     },\n",
        "\n",
        "#     # ===== Pipeline Details =====\n",
        "#     \"processing_steps\": [\n",
        "#         \"1. Download from GitHub\",\n",
        "#         \"2. Organize into class folders (0-9)\",\n",
        "#         \"3. Load with audio_dataset_from_directory\",\n",
        "#         \"4. Automatic resampling to 8kHz\",\n",
        "#         \"5. Normalization to [-1, 1]\",\n",
        "#         \"6. Padding/truncation to 8000 samples\",\n",
        "#         \"7. One-hot label encoding\"\n",
        "#     ],\n",
        "\n",
        "#     # ===== Key Observations =====\n",
        "#     \"notes\": [\n",
        "#         \"Original recordings vary significantly in length (0.14s-2.28s)\",\n",
        "#         \"95% of clips fit within 0.66s (5299 samples at 8kHz)\",\n",
        "#         \"Target length of 1s (8000 samples) provides buffer room\",\n",
        "#         \"Batch shape confirms proper processing: (batch, time_steps, channels)\"\n",
        "#     ]\n",
        "# }"
      ]
    },
    {
      "cell_type": "code",
      "execution_count": null,
      "metadata": {
        "colab": {
          "base_uri": "https://localhost:8080/"
        },
        "id": "zFt2bJ2kml90",
        "outputId": "27f671ab-f6b2-4e2a-b958-720dee61be82"
      },
      "outputs": [],
      "source": [
        "def analyze_sequence_lengths(data_path: str) -> dict[str, int]:\n",
        "    \"\"\"Analyze raw audio lengths (in samples) across all class folders\"\"\"\n",
        "    sequence_lengths = []\n",
        "\n",
        "    # Find all WAV files recursively in class subdirectories\n",
        "    wav_files = list(Path(data_path).rglob('*.wav'))\n",
        "\n",
        "    if not wav_files:\n",
        "        raise ValueError(f\"No WAV files found in {data_path}\")\n",
        "\n",
        "    for file_path in wav_files:\n",
        "        try:\n",
        "            audio, _ = librosa.load(file_path, sr=None)  # Keep original sample rate\n",
        "            sequence_lengths.append(len(audio))\n",
        "        except Exception as e:\n",
        "            print(f\"Skipping {file_path.name}: {str(e)}\")\n",
        "            continue\n",
        "\n",
        "    if not sequence_lengths:\n",
        "        raise ValueError(\"No valid audio files processed\")\n",
        "\n",
        "    stats = {\n",
        "        'min_samples': int(np.min(sequence_lengths)),\n",
        "        'max_samples': int(np.max(sequence_lengths)),\n",
        "        'mean_samples': int(np.mean(sequence_lengths)),\n",
        "        'median_samples': int(np.median(sequence_lengths)),\n",
        "        '95th_percentile': int(np.percentile(sequence_lengths, 95)),\n",
        "        'total_files': len(sequence_lengths)\n",
        "    }\n",
        "\n",
        "    print(\"\\nAudio Sequence Length (Samples)\")\n",
        "    print(\"-----------------------------\")\n",
        "    print(f\"• Minimum: {stats['min_samples']:,} samples\")\n",
        "    print(f\"• Maximum: {stats['max_samples']:,} samples\")\n",
        "    print(f\"• Mean: {stats['mean_samples']:,} samples\")\n",
        "    print(f\"• Median: {stats['median_samples']:,} samples\")\n",
        "    print(f\"• 95th Percentile: {stats['95th_percentile']:,} samples\")\n",
        "    print(f\"\\nTotal files analyzed: {stats['total_files']}\")\n",
        "    return stats\n",
        "\n",
        "# Analyze your dataset\n",
        "stats = analyze_sequence_lengths('data/spoken_digits_organized')\n",
        "\n",
        "stats['median_samples']"
      ]
    },
    {
      "cell_type": "code",
      "execution_count": null,
      "metadata": {
        "colab": {
          "base_uri": "https://localhost:8080/"
        },
        "id": "97Ii2E9_kc-P",
        "outputId": "2fbce9d0-819f-47b7-c65e-51dd3adc7c71"
      },
      "outputs": [],
      "source": [
        "# Parameters\n",
        "BATCH_SIZE = 32\n",
        "VALIDATION_SPLIT = 0.2\n",
        "SEED = 42\n",
        "SEQUENCE_LENGTH = stats['median_samples']\n",
        "\n",
        "# Create datasets\n",
        "train_ds, val_ds = tf.keras.utils.audio_dataset_from_directory(\n",
        "    directory=ORGANIZED_DATA_PATH,\n",
        "    batch_size=BATCH_SIZE,\n",
        "    validation_split=VALIDATION_SPLIT,\n",
        "    seed=SEED,\n",
        "    output_sequence_length=SEQUENCE_LENGTH,\n",
        "    subset='both',\n",
        "    #labels='inferred',\n",
        "    #label_mode='categorical'\n",
        ")\n",
        "\n",
        "# Get class names\n",
        "label_names = np.array(train_ds.class_names)\n",
        "print(\"\\nLabel names:\", label_names)\n",
        "\n",
        "# Preview the dataset\n",
        "print(\"\\nDataset structure:\")\n",
        "for audio_batch, label_batch in train_ds.take(1):\n",
        "    print(\"Audio batch shape:\", audio_batch.shape)\n",
        "    print(\"Label batch shape:\", label_batch.shape)\n",
        "    print(\"First label:\", label_batch[0].numpy())"
      ]
    },
    {
      "cell_type": "code",
      "execution_count": null,
      "metadata": {
        "colab": {
          "base_uri": "https://localhost:8080/"
        },
        "id": "kOuSNKWYxiAl",
        "outputId": "597f50f0-a449-4cb1-82b5-838162daf812"
      },
      "outputs": [],
      "source": [
        "train_ds.element_spec"
      ]
    },
    {
      "cell_type": "code",
      "execution_count": null,
      "metadata": {
        "id": "eMrvKa85xl7M"
      },
      "outputs": [],
      "source": [
        "def squeeze(audio, labels):\n",
        "  audio = tf.squeeze(audio, axis=-1)\n",
        "  return audio, labels\n",
        "\n",
        "train_ds = train_ds.map(squeeze, tf.data.AUTOTUNE)\n",
        "val_ds = val_ds.map(squeeze, tf.data.AUTOTUNE)"
      ]
    },
    {
      "cell_type": "code",
      "execution_count": null,
      "metadata": {
        "colab": {
          "base_uri": "https://localhost:8080/"
        },
        "id": "wx226v9axnkX",
        "outputId": "379f2fd1-cffd-48d7-f810-463560b902ca"
      },
      "outputs": [],
      "source": [
        "for example_audio, example_labels in train_ds.take(1):\n",
        "  print(example_audio.shape)\n",
        "  print(example_labels.shape)"
      ]
    },
    {
      "cell_type": "code",
      "execution_count": null,
      "metadata": {
        "colab": {
          "base_uri": "https://localhost:8080/",
          "height": 873
        },
        "id": "cpLI69yhxqH2",
        "outputId": "ddd464be-40dc-4890-e8b9-340060c26205"
      },
      "outputs": [],
      "source": [
        "plt.figure(figsize=(16, 10))\n",
        "rows = 3\n",
        "cols = 3\n",
        "n = rows * cols\n",
        "for i in range(n):\n",
        "  plt.subplot(rows, cols, i+1)\n",
        "  audio_signal = example_audio[i]\n",
        "  plt.plot(audio_signal)\n",
        "  plt.title(label_names[example_labels[i]])\n",
        "  plt.yticks(np.arange(-1.2, 1.2, 0.2))\n",
        "  plt.ylim([-1.1, 1.1])"
      ]
    },
    {
      "cell_type": "code",
      "execution_count": null,
      "metadata": {
        "id": "cEYsBKM5yuoK"
      },
      "outputs": [],
      "source": [
        "def get_spectrogram(waveform):\n",
        "  # Convert the waveform to a spectrogram via a STFT.\n",
        "  spectrogram = tf.signal.stft(\n",
        "      waveform, frame_length=255, frame_step=128)\n",
        "  # Obtain the magnitude of the STFT.\n",
        "  spectrogram = tf.abs(spectrogram)\n",
        "  # Add a `channels` dimension, so that the spectrogram can be used\n",
        "  # as image-like input data with convolution layers (which expect\n",
        "  # shape (`batch_size`, `height`, `width`, `channels`).\n",
        "  spectrogram = spectrogram[..., tf.newaxis]\n",
        "  return spectrogram"
      ]
    },
    {
      "cell_type": "code",
      "execution_count": null,
      "metadata": {
        "colab": {
          "base_uri": "https://localhost:8080/",
          "height": 376
        },
        "id": "KtMx66Rayv_S",
        "outputId": "b10240a3-9482-485e-c366-2eb27a7bc48b"
      },
      "outputs": [],
      "source": [
        "for i in range(3):\n",
        "  label = label_names[example_labels[i]]\n",
        "  waveform = example_audio[i]\n",
        "  spectrogram = get_spectrogram(waveform)\n",
        "\n",
        "  print('Label:', label)\n",
        "  print('Waveform shape:', waveform.shape)\n",
        "  print('Spectrogram shape:', spectrogram.shape)\n",
        "  print('Audio playback')\n",
        "  display.display(display.Audio(waveform, rate=16000))"
      ]
    },
    {
      "cell_type": "code",
      "execution_count": null,
      "metadata": {
        "id": "JqUSP77ZyzVu"
      },
      "outputs": [],
      "source": [
        "def plot_spectrogram(spectrogram, ax):\n",
        "  if len(spectrogram.shape) > 2:\n",
        "    assert len(spectrogram.shape) == 3\n",
        "    spectrogram = np.squeeze(spectrogram, axis=-1)\n",
        "  # Convert the frequencies to log scale and transpose, so that the time is\n",
        "  # represented on the x-axis (columns).\n",
        "  # Add an epsilon to avoid taking a log of zero.\n",
        "  log_spec = np.log(spectrogram.T + np.finfo(float).eps)\n",
        "  height = log_spec.shape[0]\n",
        "  width = log_spec.shape[1]\n",
        "  X = np.linspace(0, np.size(spectrogram), num=width, dtype=int)\n",
        "  Y = range(height)\n",
        "  ax.pcolormesh(X, Y, log_spec)"
      ]
    },
    {
      "cell_type": "code",
      "execution_count": null,
      "metadata": {
        "colab": {
          "base_uri": "https://localhost:8080/",
          "height": 776
        },
        "id": "kstKYE9qy0mb",
        "outputId": "f496e158-a73a-4c32-c93e-175e989ed487"
      },
      "outputs": [],
      "source": [
        "fig, axes = plt.subplots(2, figsize=(12, 8))\n",
        "timescale = np.arange(waveform.shape[0])\n",
        "axes[0].plot(timescale, waveform.numpy())\n",
        "axes[0].set_title('Waveform')\n",
        "axes[0].set_xlim([0, stats['mean_samples']])\n",
        "\n",
        "plot_spectrogram(spectrogram.numpy(), axes[1])\n",
        "axes[1].set_title('Spectrogram')\n",
        "plt.suptitle(label.title())\n",
        "plt.show()"
      ]
    },
    {
      "cell_type": "code",
      "execution_count": null,
      "metadata": {
        "id": "wJwEXx0Ry7mH"
      },
      "outputs": [],
      "source": [
        "def make_spec_ds(ds):\n",
        "  return ds.map(\n",
        "      map_func=lambda audio,label: (get_spectrogram(audio), label),\n",
        "      num_parallel_calls=tf.data.AUTOTUNE)"
      ]
    },
    {
      "cell_type": "code",
      "execution_count": null,
      "metadata": {
        "id": "IwFA506ly8wf"
      },
      "outputs": [],
      "source": [
        "train_spectrogram_ds = make_spec_ds(train_ds)\n",
        "val_spectrogram_ds = make_spec_ds(val_ds)"
      ]
    },
    {
      "cell_type": "code",
      "execution_count": null,
      "metadata": {
        "id": "EGReuhP-zBPG"
      },
      "outputs": [],
      "source": [
        "for example_spectrograms, example_spect_labels in train_spectrogram_ds.take(1):\n",
        "  break"
      ]
    },
    {
      "cell_type": "code",
      "execution_count": null,
      "metadata": {
        "colab": {
          "base_uri": "https://localhost:8080/",
          "height": 796
        },
        "id": "K56Xml1ly_X8",
        "outputId": "f95413a7-b83a-4710-9add-cae407b86328"
      },
      "outputs": [],
      "source": [
        "rows = 3\n",
        "cols = 3\n",
        "n = rows*cols\n",
        "fig, axes = plt.subplots(rows, cols, figsize=(16, 9))\n",
        "\n",
        "for i in range(n):\n",
        "    r = i // cols\n",
        "    c = i % cols\n",
        "    ax = axes[r][c]\n",
        "    plot_spectrogram(example_spectrograms[i].numpy(), ax)\n",
        "    ax.set_title(label_names[example_spect_labels[i].numpy()])\n",
        "\n",
        "plt.show()"
      ]
    },
    {
      "cell_type": "markdown",
      "metadata": {
        "id": "hXu_oxUp8YKn"
      },
      "source": [
        "# CNN"
      ]
    },
    {
      "cell_type": "code",
      "execution_count": null,
      "metadata": {
        "id": "IbLhEkhfzXY_"
      },
      "outputs": [],
      "source": [
        "train_spectrogram_ds = train_spectrogram_ds.cache().shuffle(10000).prefetch(tf.data.AUTOTUNE)\n",
        "val_spectrogram_ds = val_spectrogram_ds.cache().prefetch(tf.data.AUTOTUNE)"
      ]
    },
    {
      "cell_type": "code",
      "execution_count": null,
      "metadata": {
        "colab": {
          "base_uri": "https://localhost:8080/",
          "height": 513
        },
        "id": "v8SO-VNmzZE7",
        "outputId": "1a4842f8-a3c0-4479-c2ba-a40cd40914f0"
      },
      "outputs": [],
      "source": [
        "input_shape = example_spectrograms.shape[1:]\n",
        "print('Input shape:', input_shape)\n",
        "num_labels = len(label_names)\n",
        "\n",
        "# Instantiate the `tf.keras.layers.Normalization` layer.\n",
        "norm_layer = layers.Normalization()\n",
        "# Fit the state of the layer to the spectrograms\n",
        "# with `Normalization.adapt`.\n",
        "norm_layer.adapt(data=train_spectrogram_ds.map(map_func=lambda spec, label: spec))\n",
        "\n",
        "model = models.Sequential([\n",
        "    layers.Input(shape=input_shape),\n",
        "    # Downsample the input.\n",
        "    layers.Resizing(32, 32),\n",
        "    # Normalize.\n",
        "    norm_layer,\n",
        "    layers.Conv2D(32, 3, activation='relu'),\n",
        "    layers.Conv2D(64, 3, activation='relu'),\n",
        "    layers.MaxPooling2D(),\n",
        "    layers.Dropout(0.25),\n",
        "    layers.Flatten(),\n",
        "    layers.Dense(128, activation='relu'),\n",
        "    layers.Dropout(0.5),\n",
        "    layers.Dense(num_labels),\n",
        "])\n",
        "\n",
        "model.summary()"
      ]
    },
    {
      "cell_type": "code",
      "execution_count": null,
      "metadata": {
        "id": "lyMJ_yxGzbDy"
      },
      "outputs": [],
      "source": [
        "model.compile(\n",
        "    optimizer=tf.keras.optimizers.Adam(),\n",
        "    loss=tf.keras.losses.SparseCategoricalCrossentropy(from_logits=True),\n",
        "    metrics=['accuracy'],\n",
        ")"
      ]
    },
    {
      "cell_type": "code",
      "execution_count": null,
      "metadata": {
        "colab": {
          "base_uri": "https://localhost:8080/"
        },
        "id": "3ZMNGgGazb-5",
        "outputId": "de9f63bf-3a8a-4142-fcee-eeb0e36cff56"
      },
      "outputs": [],
      "source": [
        "EPOCHS = 50\n",
        "history = model.fit(\n",
        "    train_spectrogram_ds,\n",
        "    validation_data=val_spectrogram_ds,\n",
        "    epochs=EPOCHS,\n",
        "    callbacks=tf.keras.callbacks.EarlyStopping(verbose=1, patience=5),\n",
        ")"
      ]
    },
    {
      "cell_type": "code",
      "execution_count": null,
      "metadata": {},
      "outputs": [],
      "source": [
        "model.save('./models/cnn.keras')"
      ]
    },
    {
      "cell_type": "markdown",
      "metadata": {
        "id": "9M0b6F6BDqNX"
      },
      "source": [
        "# LSTM"
      ]
    },
    {
      "cell_type": "code",
      "execution_count": null,
      "metadata": {},
      "outputs": [
        {
          "name": "stdout",
          "output_type": "stream",
          "text": [
            "Found 3000 files belonging to 10 classes.\n",
            "Using 2400 files for training.\n",
            "Using 600 files for validation.\n"
          ]
        },
        {
          "data": {
            "text/html": [
              "<pre style=\"white-space:pre;overflow-x:auto;line-height:normal;font-family:Menlo,'DejaVu Sans Mono',consolas,'Courier New',monospace\"><span style=\"font-weight: bold\">Model: \"sequential_3\"</span>\n",
              "</pre>\n"
            ],
            "text/plain": [
              "\u001b[1mModel: \"sequential_3\"\u001b[0m\n"
            ]
          },
          "metadata": {},
          "output_type": "display_data"
        },
        {
          "data": {
            "text/html": [
              "<pre style=\"white-space:pre;overflow-x:auto;line-height:normal;font-family:Menlo,'DejaVu Sans Mono',consolas,'Courier New',monospace\">┏━━━━━━━━━━━━━━━━━━━━━━━━━━━━━━━━━┳━━━━━━━━━━━━━━━━━━━━━━━━┳━━━━━━━━━━━━━━━┓\n",
              "┃<span style=\"font-weight: bold\"> Layer (type)                    </span>┃<span style=\"font-weight: bold\"> Output Shape           </span>┃<span style=\"font-weight: bold\">       Param # </span>┃\n",
              "┡━━━━━━━━━━━━━━━━━━━━━━━━━━━━━━━━━╇━━━━━━━━━━━━━━━━━━━━━━━━╇━━━━━━━━━━━━━━━┩\n",
              "│ bidirectional_6 (<span style=\"color: #0087ff; text-decoration-color: #0087ff\">Bidirectional</span>) │ (<span style=\"color: #00d7ff; text-decoration-color: #00d7ff\">None</span>, <span style=\"color: #00af00; text-decoration-color: #00af00\">25</span>, <span style=\"color: #00af00; text-decoration-color: #00af00\">128</span>)        │        <span style=\"color: #00af00; text-decoration-color: #00af00\">39,936</span> │\n",
              "├─────────────────────────────────┼────────────────────────┼───────────────┤\n",
              "│ batch_normalization_9           │ (<span style=\"color: #00d7ff; text-decoration-color: #00d7ff\">None</span>, <span style=\"color: #00af00; text-decoration-color: #00af00\">25</span>, <span style=\"color: #00af00; text-decoration-color: #00af00\">128</span>)        │           <span style=\"color: #00af00; text-decoration-color: #00af00\">512</span> │\n",
              "│ (<span style=\"color: #0087ff; text-decoration-color: #0087ff\">BatchNormalization</span>)            │                        │               │\n",
              "├─────────────────────────────────┼────────────────────────┼───────────────┤\n",
              "│ dropout_9 (<span style=\"color: #0087ff; text-decoration-color: #0087ff\">Dropout</span>)             │ (<span style=\"color: #00d7ff; text-decoration-color: #00d7ff\">None</span>, <span style=\"color: #00af00; text-decoration-color: #00af00\">25</span>, <span style=\"color: #00af00; text-decoration-color: #00af00\">128</span>)        │             <span style=\"color: #00af00; text-decoration-color: #00af00\">0</span> │\n",
              "├─────────────────────────────────┼────────────────────────┼───────────────┤\n",
              "│ bidirectional_7 (<span style=\"color: #0087ff; text-decoration-color: #0087ff\">Bidirectional</span>) │ (<span style=\"color: #00d7ff; text-decoration-color: #00d7ff\">None</span>, <span style=\"color: #00af00; text-decoration-color: #00af00\">128</span>)            │        <span style=\"color: #00af00; text-decoration-color: #00af00\">98,816</span> │\n",
              "├─────────────────────────────────┼────────────────────────┼───────────────┤\n",
              "│ batch_normalization_10          │ (<span style=\"color: #00d7ff; text-decoration-color: #00d7ff\">None</span>, <span style=\"color: #00af00; text-decoration-color: #00af00\">128</span>)            │           <span style=\"color: #00af00; text-decoration-color: #00af00\">512</span> │\n",
              "│ (<span style=\"color: #0087ff; text-decoration-color: #0087ff\">BatchNormalization</span>)            │                        │               │\n",
              "├─────────────────────────────────┼────────────────────────┼───────────────┤\n",
              "│ dropout_10 (<span style=\"color: #0087ff; text-decoration-color: #0087ff\">Dropout</span>)            │ (<span style=\"color: #00d7ff; text-decoration-color: #00d7ff\">None</span>, <span style=\"color: #00af00; text-decoration-color: #00af00\">128</span>)            │             <span style=\"color: #00af00; text-decoration-color: #00af00\">0</span> │\n",
              "├─────────────────────────────────┼────────────────────────┼───────────────┤\n",
              "│ dense_6 (<span style=\"color: #0087ff; text-decoration-color: #0087ff\">Dense</span>)                 │ (<span style=\"color: #00d7ff; text-decoration-color: #00d7ff\">None</span>, <span style=\"color: #00af00; text-decoration-color: #00af00\">64</span>)             │         <span style=\"color: #00af00; text-decoration-color: #00af00\">8,256</span> │\n",
              "├─────────────────────────────────┼────────────────────────┼───────────────┤\n",
              "│ batch_normalization_11          │ (<span style=\"color: #00d7ff; text-decoration-color: #00d7ff\">None</span>, <span style=\"color: #00af00; text-decoration-color: #00af00\">64</span>)             │           <span style=\"color: #00af00; text-decoration-color: #00af00\">256</span> │\n",
              "│ (<span style=\"color: #0087ff; text-decoration-color: #0087ff\">BatchNormalization</span>)            │                        │               │\n",
              "├─────────────────────────────────┼────────────────────────┼───────────────┤\n",
              "│ dropout_11 (<span style=\"color: #0087ff; text-decoration-color: #0087ff\">Dropout</span>)            │ (<span style=\"color: #00d7ff; text-decoration-color: #00d7ff\">None</span>, <span style=\"color: #00af00; text-decoration-color: #00af00\">64</span>)             │             <span style=\"color: #00af00; text-decoration-color: #00af00\">0</span> │\n",
              "├─────────────────────────────────┼────────────────────────┼───────────────┤\n",
              "│ dense_7 (<span style=\"color: #0087ff; text-decoration-color: #0087ff\">Dense</span>)                 │ (<span style=\"color: #00d7ff; text-decoration-color: #00d7ff\">None</span>, <span style=\"color: #00af00; text-decoration-color: #00af00\">10</span>)             │           <span style=\"color: #00af00; text-decoration-color: #00af00\">650</span> │\n",
              "└─────────────────────────────────┴────────────────────────┴───────────────┘\n",
              "</pre>\n"
            ],
            "text/plain": [
              "┏━━━━━━━━━━━━━━━━━━━━━━━━━━━━━━━━━┳━━━━━━━━━━━━━━━━━━━━━━━━┳━━━━━━━━━━━━━━━┓\n",
              "┃\u001b[1m \u001b[0m\u001b[1mLayer (type)                   \u001b[0m\u001b[1m \u001b[0m┃\u001b[1m \u001b[0m\u001b[1mOutput Shape          \u001b[0m\u001b[1m \u001b[0m┃\u001b[1m \u001b[0m\u001b[1m      Param #\u001b[0m\u001b[1m \u001b[0m┃\n",
              "┡━━━━━━━━━━━━━━━━━━━━━━━━━━━━━━━━━╇━━━━━━━━━━━━━━━━━━━━━━━━╇━━━━━━━━━━━━━━━┩\n",
              "│ bidirectional_6 (\u001b[38;5;33mBidirectional\u001b[0m) │ (\u001b[38;5;45mNone\u001b[0m, \u001b[38;5;34m25\u001b[0m, \u001b[38;5;34m128\u001b[0m)        │        \u001b[38;5;34m39,936\u001b[0m │\n",
              "├─────────────────────────────────┼────────────────────────┼───────────────┤\n",
              "│ batch_normalization_9           │ (\u001b[38;5;45mNone\u001b[0m, \u001b[38;5;34m25\u001b[0m, \u001b[38;5;34m128\u001b[0m)        │           \u001b[38;5;34m512\u001b[0m │\n",
              "│ (\u001b[38;5;33mBatchNormalization\u001b[0m)            │                        │               │\n",
              "├─────────────────────────────────┼────────────────────────┼───────────────┤\n",
              "│ dropout_9 (\u001b[38;5;33mDropout\u001b[0m)             │ (\u001b[38;5;45mNone\u001b[0m, \u001b[38;5;34m25\u001b[0m, \u001b[38;5;34m128\u001b[0m)        │             \u001b[38;5;34m0\u001b[0m │\n",
              "├─────────────────────────────────┼────────────────────────┼───────────────┤\n",
              "│ bidirectional_7 (\u001b[38;5;33mBidirectional\u001b[0m) │ (\u001b[38;5;45mNone\u001b[0m, \u001b[38;5;34m128\u001b[0m)            │        \u001b[38;5;34m98,816\u001b[0m │\n",
              "├─────────────────────────────────┼────────────────────────┼───────────────┤\n",
              "│ batch_normalization_10          │ (\u001b[38;5;45mNone\u001b[0m, \u001b[38;5;34m128\u001b[0m)            │           \u001b[38;5;34m512\u001b[0m │\n",
              "│ (\u001b[38;5;33mBatchNormalization\u001b[0m)            │                        │               │\n",
              "├─────────────────────────────────┼────────────────────────┼───────────────┤\n",
              "│ dropout_10 (\u001b[38;5;33mDropout\u001b[0m)            │ (\u001b[38;5;45mNone\u001b[0m, \u001b[38;5;34m128\u001b[0m)            │             \u001b[38;5;34m0\u001b[0m │\n",
              "├─────────────────────────────────┼────────────────────────┼───────────────┤\n",
              "│ dense_6 (\u001b[38;5;33mDense\u001b[0m)                 │ (\u001b[38;5;45mNone\u001b[0m, \u001b[38;5;34m64\u001b[0m)             │         \u001b[38;5;34m8,256\u001b[0m │\n",
              "├─────────────────────────────────┼────────────────────────┼───────────────┤\n",
              "│ batch_normalization_11          │ (\u001b[38;5;45mNone\u001b[0m, \u001b[38;5;34m64\u001b[0m)             │           \u001b[38;5;34m256\u001b[0m │\n",
              "│ (\u001b[38;5;33mBatchNormalization\u001b[0m)            │                        │               │\n",
              "├─────────────────────────────────┼────────────────────────┼───────────────┤\n",
              "│ dropout_11 (\u001b[38;5;33mDropout\u001b[0m)            │ (\u001b[38;5;45mNone\u001b[0m, \u001b[38;5;34m64\u001b[0m)             │             \u001b[38;5;34m0\u001b[0m │\n",
              "├─────────────────────────────────┼────────────────────────┼───────────────┤\n",
              "│ dense_7 (\u001b[38;5;33mDense\u001b[0m)                 │ (\u001b[38;5;45mNone\u001b[0m, \u001b[38;5;34m10\u001b[0m)             │           \u001b[38;5;34m650\u001b[0m │\n",
              "└─────────────────────────────────┴────────────────────────┴───────────────┘\n"
            ]
          },
          "metadata": {},
          "output_type": "display_data"
        },
        {
          "data": {
            "text/html": [
              "<pre style=\"white-space:pre;overflow-x:auto;line-height:normal;font-family:Menlo,'DejaVu Sans Mono',consolas,'Courier New',monospace\"><span style=\"font-weight: bold\"> Total params: </span><span style=\"color: #00af00; text-decoration-color: #00af00\">148,938</span> (581.79 KB)\n",
              "</pre>\n"
            ],
            "text/plain": [
              "\u001b[1m Total params: \u001b[0m\u001b[38;5;34m148,938\u001b[0m (581.79 KB)\n"
            ]
          },
          "metadata": {},
          "output_type": "display_data"
        },
        {
          "data": {
            "text/html": [
              "<pre style=\"white-space:pre;overflow-x:auto;line-height:normal;font-family:Menlo,'DejaVu Sans Mono',consolas,'Courier New',monospace\"><span style=\"font-weight: bold\"> Trainable params: </span><span style=\"color: #00af00; text-decoration-color: #00af00\">148,298</span> (579.29 KB)\n",
              "</pre>\n"
            ],
            "text/plain": [
              "\u001b[1m Trainable params: \u001b[0m\u001b[38;5;34m148,298\u001b[0m (579.29 KB)\n"
            ]
          },
          "metadata": {},
          "output_type": "display_data"
        },
        {
          "data": {
            "text/html": [
              "<pre style=\"white-space:pre;overflow-x:auto;line-height:normal;font-family:Menlo,'DejaVu Sans Mono',consolas,'Courier New',monospace\"><span style=\"font-weight: bold\"> Non-trainable params: </span><span style=\"color: #00af00; text-decoration-color: #00af00\">640</span> (2.50 KB)\n",
              "</pre>\n"
            ],
            "text/plain": [
              "\u001b[1m Non-trainable params: \u001b[0m\u001b[38;5;34m640\u001b[0m (2.50 KB)\n"
            ]
          },
          "metadata": {},
          "output_type": "display_data"
        }
      ],
      "source": [
        "BATCH_SIZE = 32\n",
        "EPOCHS = 100\n",
        "SR = 16000\n",
        "N_MEL_BINS = 64\n",
        "FRAME_LENGTH = 256\n",
        "FRAME_STEP = 128\n",
        "EPS = 1e-6\n",
        "\n",
        "def waveform_to_mfcc(waveform, label):\n",
        "    \"\"\"\n",
        "    Convierte lotes de forma de onda en su representación MFCC normalizada.\n",
        "\n",
        "    Parámetros\n",
        "    ----------\n",
        "    waveform : tf.Tensor\n",
        "        Tensor de tipo float32 con forma [batch_size, seq_length, 1],\n",
        "        donde `seq_length` == output_sequence_length definido en\n",
        "        audio_dataset_from_directory. Cada valor está en [-1.0, +1.0].\n",
        "    label : tf.Tensor\n",
        "        Tensor de enteros con forma [batch_size], la etiqueta\n",
        "        de clase para cada ejemplo de audio.\n",
        "\n",
        "    Devuelve\n",
        "    -------\n",
        "    mfccs : tf.Tensor\n",
        "        Tensor float32 con forma [batch_size, timesteps, 13], donde\n",
        "        `timesteps = 1 + (seq_length - FRAME_LENGTH) // FRAME_STEP`.\n",
        "        Son los 13 primeros coeficientes MFCC, normalizados en\n",
        "        media 0 y desviación estándar 1 a lo largo del eje temporal.\n",
        "    label : tf.Tensor\n",
        "        Mismas etiquetas de entrada, sin modificar.\n",
        "    \"\"\"\n",
        "    waveform = tf.squeeze(waveform, axis=-1)\n",
        "\n",
        "    # STFT → espectrograma\n",
        "    spec = tf.signal.stft(\n",
        "        waveform,\n",
        "        frame_length=FRAME_LENGTH,\n",
        "        frame_step=FRAME_STEP\n",
        "    )\n",
        "    spec = tf.abs(spec) \n",
        "\n",
        "    mel_matrix = tf.signal.linear_to_mel_weight_matrix(\n",
        "        num_mel_bins=N_MEL_BINS,\n",
        "        num_spectrogram_bins=spec.shape[-1],\n",
        "        sample_rate=SR\n",
        "    )\n",
        "    mel_spec = tf.tensordot(spec, mel_matrix, axes=1)  \n",
        "\n",
        "    log_mel = tf.math.log(mel_spec + EPS)\n",
        "    mfccs = tf.signal.mfccs_from_log_mel_spectrograms(log_mel)[..., :13] \n",
        "\n",
        "    # Normalizar cada coeficiente a lo largo del eje temporal\n",
        "    mean = tf.reduce_mean(mfccs, axis=1, keepdims=True)\n",
        "    std  = tf.math.reduce_std(mfccs, axis=1, keepdims=True)\n",
        "    mfccs = (mfccs - mean) / (std + EPS)\n",
        "\n",
        "    return mfccs, label\n",
        "\n",
        "# ————— NO MODIFICAR esta parte: output_sequence_length ya pad/trunca automáticamente\n",
        "train_ds, val_ds = tf.keras.utils.audio_dataset_from_directory(\n",
        "    directory=ORGANIZED_DATA_PATH,\n",
        "    batch_size=BATCH_SIZE,\n",
        "    validation_split=VALIDATION_SPLIT,\n",
        "    seed=SEED,\n",
        "    output_sequence_length=SEQUENCE_LENGTH,\n",
        "    subset='both',\n",
        ")\n",
        "\n",
        "train_ds = (\n",
        "    train_ds\n",
        "    .map(waveform_to_mfcc, num_parallel_calls=tf.data.AUTOTUNE)\n",
        "    .cache()\n",
        "    .shuffle(1000)\n",
        "    .prefetch(tf.data.AUTOTUNE)\n",
        ")\n",
        "\n",
        "val_ds = (\n",
        "    val_ds\n",
        "    .map(waveform_to_mfcc, num_parallel_calls=tf.data.AUTOTUNE)\n",
        "    .cache()\n",
        "    .prefetch(tf.data.AUTOTUNE)\n",
        ")\n",
        "\n",
        "def create_lstm(input_shape, num_labels):\n",
        "    \"\"\"\n",
        "    Crea un modelo LSTM bidireccional para clasificación de secuencias MFCC.\n",
        "\n",
        "    Parámetros\n",
        "    ----------\n",
        "    input_shape : tuple de int\n",
        "        Forma de la entrada por ejemplo (timesteps, 13), que coincide con\n",
        "        la salida de waveform_to_mfcc para cada muestra.\n",
        "    num_labels : int\n",
        "        Número de clases de salida (tamaño del vocabulario de etiquetas).\n",
        "\n",
        "    Devuelve\n",
        "    -------\n",
        "    model : tf.keras.Model\n",
        "        Modelo compilado listo para entrenar con loss\n",
        "        'sparse_categorical_crossentropy' y métrica 'accuracy'.\n",
        "    \"\"\"\n",
        "    \n",
        "    model = models.Sequential([\n",
        "        layers.Input(shape=input_shape),\n",
        "        layers.Bidirectional(layers.LSTM(64, return_sequences=True)),\n",
        "        layers.BatchNormalization(),\n",
        "        layers.Dropout(0.4),\n",
        "\n",
        "        layers.Bidirectional(layers.LSTM(64)),\n",
        "        layers.BatchNormalization(),\n",
        "        layers.Dropout(0.4),\n",
        "\n",
        "        layers.Dense(64, activation='relu'),\n",
        "        layers.BatchNormalization(),\n",
        "        layers.Dropout(0.5),\n",
        "\n",
        "        layers.Dense(num_labels, activation='softmax')\n",
        "    ])\n",
        "    \n",
        "    model.compile(\n",
        "        optimizer=optimizers.Adam(learning_rate=1e-4, clipnorm=1.0),\n",
        "        loss='sparse_categorical_crossentropy',\n",
        "        metrics=['accuracy']\n",
        "    )\n",
        "    \n",
        "    return model\n",
        "\n",
        "for x_batch, y_batch in train_ds.take(1):\n",
        "    input_shape = x_batch.shape[1:]\n",
        "    num_labels = int(tf.reduce_max(y_batch).numpy()) + 1\n",
        "    break\n",
        "\n",
        "model = create_lstm(input_shape, num_labels)\n",
        "model.summary()\n"
      ]
    },
    {
      "cell_type": "code",
      "execution_count": 24,
      "metadata": {},
      "outputs": [
        {
          "name": "stdout",
          "output_type": "stream",
          "text": [
            "Epoch 1/100\n",
            "\u001b[1m75/75\u001b[0m \u001b[32m━━━━━━━━━━━━━━━━━━━━\u001b[0m\u001b[37m\u001b[0m \u001b[1m2s\u001b[0m 32ms/step - accuracy: 0.9872 - loss: 0.0631 - val_accuracy: 0.9533 - val_loss: 0.1643\n",
            "Epoch 2/100\n",
            "\u001b[1m75/75\u001b[0m \u001b[32m━━━━━━━━━━━━━━━━━━━━\u001b[0m\u001b[37m\u001b[0m \u001b[1m2s\u001b[0m 30ms/step - accuracy: 0.9810 - loss: 0.0629 - val_accuracy: 0.9567 - val_loss: 0.1504\n",
            "Epoch 3/100\n",
            "\u001b[1m75/75\u001b[0m \u001b[32m━━━━━━━━━━━━━━━━━━━━\u001b[0m\u001b[37m\u001b[0m \u001b[1m2s\u001b[0m 28ms/step - accuracy: 0.9874 - loss: 0.0568 - val_accuracy: 0.9567 - val_loss: 0.1530\n",
            "Epoch 4/100\n",
            "\u001b[1m75/75\u001b[0m \u001b[32m━━━━━━━━━━━━━━━━━━━━\u001b[0m\u001b[37m\u001b[0m \u001b[1m2s\u001b[0m 27ms/step - accuracy: 0.9873 - loss: 0.0621 - val_accuracy: 0.9583 - val_loss: 0.1475\n",
            "Epoch 5/100\n",
            "\u001b[1m75/75\u001b[0m \u001b[32m━━━━━━━━━━━━━━━━━━━━\u001b[0m\u001b[37m\u001b[0m \u001b[1m2s\u001b[0m 27ms/step - accuracy: 0.9868 - loss: 0.0549 - val_accuracy: 0.9567 - val_loss: 0.1474\n",
            "Epoch 6/100\n",
            "\u001b[1m75/75\u001b[0m \u001b[32m━━━━━━━━━━━━━━━━━━━━\u001b[0m\u001b[37m\u001b[0m \u001b[1m2s\u001b[0m 27ms/step - accuracy: 0.9868 - loss: 0.0569 - val_accuracy: 0.9583 - val_loss: 0.1501\n",
            "Epoch 7/100\n",
            "\u001b[1m75/75\u001b[0m \u001b[32m━━━━━━━━━━━━━━━━━━━━\u001b[0m\u001b[37m\u001b[0m \u001b[1m2s\u001b[0m 26ms/step - accuracy: 0.9878 - loss: 0.0580 - val_accuracy: 0.9550 - val_loss: 0.1396\n",
            "Epoch 8/100\n",
            "\u001b[1m75/75\u001b[0m \u001b[32m━━━━━━━━━━━━━━━━━━━━\u001b[0m\u001b[37m\u001b[0m \u001b[1m2s\u001b[0m 26ms/step - accuracy: 0.9854 - loss: 0.0554 - val_accuracy: 0.9550 - val_loss: 0.1540\n",
            "Epoch 9/100\n",
            "\u001b[1m75/75\u001b[0m \u001b[32m━━━━━━━━━━━━━━━━━━━━\u001b[0m\u001b[37m\u001b[0m \u001b[1m2s\u001b[0m 26ms/step - accuracy: 0.9884 - loss: 0.0535 - val_accuracy: 0.9567 - val_loss: 0.1504\n",
            "Epoch 10/100\n",
            "\u001b[1m75/75\u001b[0m \u001b[32m━━━━━━━━━━━━━━━━━━━━\u001b[0m\u001b[37m\u001b[0m \u001b[1m2s\u001b[0m 27ms/step - accuracy: 0.9890 - loss: 0.0592 - val_accuracy: 0.9600 - val_loss: 0.1480\n",
            "Epoch 11/100\n",
            "\u001b[1m75/75\u001b[0m \u001b[32m━━━━━━━━━━━━━━━━━━━━\u001b[0m\u001b[37m\u001b[0m \u001b[1m2s\u001b[0m 26ms/step - accuracy: 0.9908 - loss: 0.0458 - val_accuracy: 0.9600 - val_loss: 0.1482\n",
            "Epoch 12/100\n",
            "\u001b[1m75/75\u001b[0m \u001b[32m━━━━━━━━━━━━━━━━━━━━\u001b[0m\u001b[37m\u001b[0m \u001b[1m2s\u001b[0m 25ms/step - accuracy: 0.9908 - loss: 0.0463 - val_accuracy: 0.9550 - val_loss: 0.1732\n",
            "Epoch 13/100\n",
            "\u001b[1m75/75\u001b[0m \u001b[32m━━━━━━━━━━━━━━━━━━━━\u001b[0m\u001b[37m\u001b[0m \u001b[1m2s\u001b[0m 26ms/step - accuracy: 0.9839 - loss: 0.0501 - val_accuracy: 0.9550 - val_loss: 0.1541\n",
            "Epoch 14/100\n",
            "\u001b[1m75/75\u001b[0m \u001b[32m━━━━━━━━━━━━━━━━━━━━\u001b[0m\u001b[37m\u001b[0m \u001b[1m2s\u001b[0m 26ms/step - accuracy: 0.9941 - loss: 0.0366 - val_accuracy: 0.9550 - val_loss: 0.1593\n",
            "Epoch 15/100\n",
            "\u001b[1m75/75\u001b[0m \u001b[32m━━━━━━━━━━━━━━━━━━━━\u001b[0m\u001b[37m\u001b[0m \u001b[1m2s\u001b[0m 26ms/step - accuracy: 0.9932 - loss: 0.0419 - val_accuracy: 0.9633 - val_loss: 0.1429\n",
            "Epoch 16/100\n",
            "\u001b[1m75/75\u001b[0m \u001b[32m━━━━━━━━━━━━━━━━━━━━\u001b[0m\u001b[37m\u001b[0m \u001b[1m2s\u001b[0m 25ms/step - accuracy: 0.9856 - loss: 0.0481 - val_accuracy: 0.9650 - val_loss: 0.1412\n",
            "Epoch 17/100\n",
            "\u001b[1m75/75\u001b[0m \u001b[32m━━━━━━━━━━━━━━━━━━━━\u001b[0m\u001b[37m\u001b[0m \u001b[1m2s\u001b[0m 26ms/step - accuracy: 0.9928 - loss: 0.0422 - val_accuracy: 0.9583 - val_loss: 0.1570\n",
            "Epoch 18/100\n",
            "\u001b[1m75/75\u001b[0m \u001b[32m━━━━━━━━━━━━━━━━━━━━\u001b[0m\u001b[37m\u001b[0m \u001b[1m2s\u001b[0m 26ms/step - accuracy: 0.9894 - loss: 0.0438 - val_accuracy: 0.9567 - val_loss: 0.1563\n",
            "Epoch 19/100\n",
            "\u001b[1m75/75\u001b[0m \u001b[32m━━━━━━━━━━━━━━━━━━━━\u001b[0m\u001b[37m\u001b[0m \u001b[1m2s\u001b[0m 26ms/step - accuracy: 0.9925 - loss: 0.0480 - val_accuracy: 0.9633 - val_loss: 0.1418\n",
            "Epoch 20/100\n",
            "\u001b[1m75/75\u001b[0m \u001b[32m━━━━━━━━━━━━━━━━━━━━\u001b[0m\u001b[37m\u001b[0m \u001b[1m2s\u001b[0m 27ms/step - accuracy: 0.9909 - loss: 0.0441 - val_accuracy: 0.9583 - val_loss: 0.1721\n",
            "Epoch 21/100\n",
            "\u001b[1m75/75\u001b[0m \u001b[32m━━━━━━━━━━━━━━━━━━━━\u001b[0m\u001b[37m\u001b[0m \u001b[1m2s\u001b[0m 26ms/step - accuracy: 0.9911 - loss: 0.0404 - val_accuracy: 0.9617 - val_loss: 0.1571\n",
            "Epoch 22/100\n",
            "\u001b[1m75/75\u001b[0m \u001b[32m━━━━━━━━━━━━━━━━━━━━\u001b[0m\u001b[37m\u001b[0m \u001b[1m2s\u001b[0m 25ms/step - accuracy: 0.9910 - loss: 0.0450 - val_accuracy: 0.9583 - val_loss: 0.1586\n",
            "Epoch 23/100\n",
            "\u001b[1m75/75\u001b[0m \u001b[32m━━━━━━━━━━━━━━━━━━━━\u001b[0m\u001b[37m\u001b[0m \u001b[1m2s\u001b[0m 26ms/step - accuracy: 0.9958 - loss: 0.0275 - val_accuracy: 0.9617 - val_loss: 0.1511\n",
            "Epoch 24/100\n",
            "\u001b[1m75/75\u001b[0m \u001b[32m━━━━━━━━━━━━━━━━━━━━\u001b[0m\u001b[37m\u001b[0m \u001b[1m2s\u001b[0m 27ms/step - accuracy: 0.9946 - loss: 0.0311 - val_accuracy: 0.9583 - val_loss: 0.1806\n",
            "Epoch 25/100\n",
            "\u001b[1m75/75\u001b[0m \u001b[32m━━━━━━━━━━━━━━━━━━━━\u001b[0m\u001b[37m\u001b[0m \u001b[1m2s\u001b[0m 28ms/step - accuracy: 0.9968 - loss: 0.0334 - val_accuracy: 0.9567 - val_loss: 0.1635\n",
            "Epoch 26/100\n",
            "\u001b[1m75/75\u001b[0m \u001b[32m━━━━━━━━━━━━━━━━━━━━\u001b[0m\u001b[37m\u001b[0m \u001b[1m2s\u001b[0m 27ms/step - accuracy: 0.9908 - loss: 0.0366 - val_accuracy: 0.9583 - val_loss: 0.1597\n",
            "Epoch 27/100\n",
            "\u001b[1m75/75\u001b[0m \u001b[32m━━━━━━━━━━━━━━━━━━━━\u001b[0m\u001b[37m\u001b[0m \u001b[1m2s\u001b[0m 26ms/step - accuracy: 0.9944 - loss: 0.0321 - val_accuracy: 0.9617 - val_loss: 0.1599\n",
            "Epoch 28/100\n",
            "\u001b[1m75/75\u001b[0m \u001b[32m━━━━━━━━━━━━━━━━━━━━\u001b[0m\u001b[37m\u001b[0m \u001b[1m2s\u001b[0m 26ms/step - accuracy: 0.9898 - loss: 0.0361 - val_accuracy: 0.9600 - val_loss: 0.1520\n",
            "Epoch 29/100\n",
            "\u001b[1m75/75\u001b[0m \u001b[32m━━━━━━━━━━━━━━━━━━━━\u001b[0m\u001b[37m\u001b[0m \u001b[1m2s\u001b[0m 26ms/step - accuracy: 0.9934 - loss: 0.0320 - val_accuracy: 0.9567 - val_loss: 0.1594\n",
            "Epoch 30/100\n",
            "\u001b[1m75/75\u001b[0m \u001b[32m━━━━━━━━━━━━━━━━━━━━\u001b[0m\u001b[37m\u001b[0m \u001b[1m2s\u001b[0m 26ms/step - accuracy: 0.9970 - loss: 0.0281 - val_accuracy: 0.9567 - val_loss: 0.1620\n",
            "Epoch 31/100\n",
            "\u001b[1m75/75\u001b[0m \u001b[32m━━━━━━━━━━━━━━━━━━━━\u001b[0m\u001b[37m\u001b[0m \u001b[1m2s\u001b[0m 28ms/step - accuracy: 0.9951 - loss: 0.0244 - val_accuracy: 0.9567 - val_loss: 0.1678\n",
            "Epoch 32/100\n",
            "\u001b[1m75/75\u001b[0m \u001b[32m━━━━━━━━━━━━━━━━━━━━\u001b[0m\u001b[37m\u001b[0m \u001b[1m2s\u001b[0m 27ms/step - accuracy: 0.9919 - loss: 0.0313 - val_accuracy: 0.9617 - val_loss: 0.1528\n",
            "Epoch 33/100\n",
            "\u001b[1m75/75\u001b[0m \u001b[32m━━━━━━━━━━━━━━━━━━━━\u001b[0m\u001b[37m\u001b[0m \u001b[1m2s\u001b[0m 28ms/step - accuracy: 0.9940 - loss: 0.0295 - val_accuracy: 0.9633 - val_loss: 0.1809\n",
            "Epoch 34/100\n",
            "\u001b[1m75/75\u001b[0m \u001b[32m━━━━━━━━━━━━━━━━━━━━\u001b[0m\u001b[37m\u001b[0m \u001b[1m2s\u001b[0m 26ms/step - accuracy: 0.9973 - loss: 0.0251 - val_accuracy: 0.9617 - val_loss: 0.1721\n",
            "Epoch 35/100\n",
            "\u001b[1m75/75\u001b[0m \u001b[32m━━━━━━━━━━━━━━━━━━━━\u001b[0m\u001b[37m\u001b[0m \u001b[1m2s\u001b[0m 26ms/step - accuracy: 0.9911 - loss: 0.0311 - val_accuracy: 0.9617 - val_loss: 0.1489\n",
            "Epoch 36/100\n",
            "\u001b[1m75/75\u001b[0m \u001b[32m━━━━━━━━━━━━━━━━━━━━\u001b[0m\u001b[37m\u001b[0m \u001b[1m2s\u001b[0m 25ms/step - accuracy: 0.9957 - loss: 0.0251 - val_accuracy: 0.9600 - val_loss: 0.1584\n",
            "Epoch 37/100\n",
            "\u001b[1m75/75\u001b[0m \u001b[32m━━━━━━━━━━━━━━━━━━━━\u001b[0m\u001b[37m\u001b[0m \u001b[1m2s\u001b[0m 26ms/step - accuracy: 0.9974 - loss: 0.0196 - val_accuracy: 0.9600 - val_loss: 0.1599\n",
            "Epoch 38/100\n",
            "\u001b[1m75/75\u001b[0m \u001b[32m━━━━━━━━━━━━━━━━━━━━\u001b[0m\u001b[37m\u001b[0m \u001b[1m2s\u001b[0m 27ms/step - accuracy: 0.9921 - loss: 0.0264 - val_accuracy: 0.9600 - val_loss: 0.1785\n",
            "Epoch 39/100\n",
            "\u001b[1m75/75\u001b[0m \u001b[32m━━━━━━━━━━━━━━━━━━━━\u001b[0m\u001b[37m\u001b[0m \u001b[1m2s\u001b[0m 26ms/step - accuracy: 0.9960 - loss: 0.0251 - val_accuracy: 0.9600 - val_loss: 0.1651\n",
            "Epoch 40/100\n",
            "\u001b[1m75/75\u001b[0m \u001b[32m━━━━━━━━━━━━━━━━━━━━\u001b[0m\u001b[37m\u001b[0m \u001b[1m2s\u001b[0m 26ms/step - accuracy: 0.9934 - loss: 0.0293 - val_accuracy: 0.9633 - val_loss: 0.1759\n",
            "Epoch 41/100\n",
            "\u001b[1m75/75\u001b[0m \u001b[32m━━━━━━━━━━━━━━━━━━━━\u001b[0m\u001b[37m\u001b[0m \u001b[1m2s\u001b[0m 27ms/step - accuracy: 0.9957 - loss: 0.0226 - val_accuracy: 0.9650 - val_loss: 0.1978\n",
            "Epoch 42/100\n",
            "\u001b[1m75/75\u001b[0m \u001b[32m━━━━━━━━━━━━━━━━━━━━\u001b[0m\u001b[37m\u001b[0m \u001b[1m2s\u001b[0m 27ms/step - accuracy: 0.9968 - loss: 0.0175 - val_accuracy: 0.9667 - val_loss: 0.1672\n",
            "Epoch 43/100\n",
            "\u001b[1m75/75\u001b[0m \u001b[32m━━━━━━━━━━━━━━━━━━━━\u001b[0m\u001b[37m\u001b[0m \u001b[1m2s\u001b[0m 27ms/step - accuracy: 0.9956 - loss: 0.0244 - val_accuracy: 0.9650 - val_loss: 0.1545\n",
            "Epoch 44/100\n",
            "\u001b[1m75/75\u001b[0m \u001b[32m━━━━━━━━━━━━━━━━━━━━\u001b[0m\u001b[37m\u001b[0m \u001b[1m2s\u001b[0m 27ms/step - accuracy: 0.9949 - loss: 0.0261 - val_accuracy: 0.9667 - val_loss: 0.1709\n",
            "Epoch 45/100\n",
            "\u001b[1m75/75\u001b[0m \u001b[32m━━━━━━━━━━━━━━━━━━━━\u001b[0m\u001b[37m\u001b[0m \u001b[1m2s\u001b[0m 26ms/step - accuracy: 0.9986 - loss: 0.0168 - val_accuracy: 0.9633 - val_loss: 0.1856\n",
            "Epoch 46/100\n",
            "\u001b[1m75/75\u001b[0m \u001b[32m━━━━━━━━━━━━━━━━━━━━\u001b[0m\u001b[37m\u001b[0m \u001b[1m2s\u001b[0m 26ms/step - accuracy: 0.9990 - loss: 0.0168 - val_accuracy: 0.9650 - val_loss: 0.1733\n",
            "Epoch 47/100\n",
            "\u001b[1m75/75\u001b[0m \u001b[32m━━━━━━━━━━━━━━━━━━━━\u001b[0m\u001b[37m\u001b[0m \u001b[1m2s\u001b[0m 26ms/step - accuracy: 0.9931 - loss: 0.0228 - val_accuracy: 0.9650 - val_loss: 0.1676\n",
            "Epoch 48/100\n",
            "\u001b[1m75/75\u001b[0m \u001b[32m━━━━━━━━━━━━━━━━━━━━\u001b[0m\u001b[37m\u001b[0m \u001b[1m2s\u001b[0m 26ms/step - accuracy: 0.9979 - loss: 0.0154 - val_accuracy: 0.9600 - val_loss: 0.1678\n",
            "Epoch 49/100\n",
            "\u001b[1m75/75\u001b[0m \u001b[32m━━━━━━━━━━━━━━━━━━━━\u001b[0m\u001b[37m\u001b[0m \u001b[1m2s\u001b[0m 26ms/step - accuracy: 0.9951 - loss: 0.0240 - val_accuracy: 0.9617 - val_loss: 0.1831\n",
            "Epoch 50/100\n",
            "\u001b[1m75/75\u001b[0m \u001b[32m━━━━━━━━━━━━━━━━━━━━\u001b[0m\u001b[37m\u001b[0m \u001b[1m2s\u001b[0m 26ms/step - accuracy: 0.9918 - loss: 0.0255 - val_accuracy: 0.9683 - val_loss: 0.1593\n",
            "Epoch 51/100\n",
            "\u001b[1m75/75\u001b[0m \u001b[32m━━━━━━━━━━━━━━━━━━━━\u001b[0m\u001b[37m\u001b[0m \u001b[1m2s\u001b[0m 28ms/step - accuracy: 0.9962 - loss: 0.0159 - val_accuracy: 0.9700 - val_loss: 0.1489\n",
            "Epoch 52/100\n",
            "\u001b[1m75/75\u001b[0m \u001b[32m━━━━━━━━━━━━━━━━━━━━\u001b[0m\u001b[37m\u001b[0m \u001b[1m2s\u001b[0m 26ms/step - accuracy: 0.9983 - loss: 0.0152 - val_accuracy: 0.9650 - val_loss: 0.1451\n",
            "Epoch 53/100\n",
            "\u001b[1m75/75\u001b[0m \u001b[32m━━━━━━━━━━━━━━━━━━━━\u001b[0m\u001b[37m\u001b[0m \u001b[1m2s\u001b[0m 26ms/step - accuracy: 0.9986 - loss: 0.0163 - val_accuracy: 0.9667 - val_loss: 0.1586\n",
            "Epoch 54/100\n",
            "\u001b[1m75/75\u001b[0m \u001b[32m━━━━━━━━━━━━━━━━━━━━\u001b[0m\u001b[37m\u001b[0m \u001b[1m2s\u001b[0m 26ms/step - accuracy: 0.9953 - loss: 0.0197 - val_accuracy: 0.9667 - val_loss: 0.1720\n",
            "Epoch 55/100\n",
            "\u001b[1m75/75\u001b[0m \u001b[32m━━━━━━━━━━━━━━━━━━━━\u001b[0m\u001b[37m\u001b[0m \u001b[1m2s\u001b[0m 25ms/step - accuracy: 0.9951 - loss: 0.0193 - val_accuracy: 0.9617 - val_loss: 0.2100\n",
            "Epoch 56/100\n",
            "\u001b[1m75/75\u001b[0m \u001b[32m━━━━━━━━━━━━━━━━━━━━\u001b[0m\u001b[37m\u001b[0m \u001b[1m2s\u001b[0m 27ms/step - accuracy: 0.9966 - loss: 0.0185 - val_accuracy: 0.9650 - val_loss: 0.1870\n",
            "Epoch 57/100\n",
            "\u001b[1m75/75\u001b[0m \u001b[32m━━━━━━━━━━━━━━━━━━━━\u001b[0m\u001b[37m\u001b[0m \u001b[1m2s\u001b[0m 26ms/step - accuracy: 0.9982 - loss: 0.0168 - val_accuracy: 0.9650 - val_loss: 0.1831\n",
            "Epoch 58/100\n",
            "\u001b[1m75/75\u001b[0m \u001b[32m━━━━━━━━━━━━━━━━━━━━\u001b[0m\u001b[37m\u001b[0m \u001b[1m2s\u001b[0m 27ms/step - accuracy: 0.9954 - loss: 0.0191 - val_accuracy: 0.9650 - val_loss: 0.1874\n",
            "Epoch 59/100\n",
            "\u001b[1m75/75\u001b[0m \u001b[32m━━━━━━━━━━━━━━━━━━━━\u001b[0m\u001b[37m\u001b[0m \u001b[1m2s\u001b[0m 25ms/step - accuracy: 0.9989 - loss: 0.0127 - val_accuracy: 0.9650 - val_loss: 0.1852\n",
            "Epoch 60/100\n",
            "\u001b[1m75/75\u001b[0m \u001b[32m━━━━━━━━━━━━━━━━━━━━\u001b[0m\u001b[37m\u001b[0m \u001b[1m2s\u001b[0m 26ms/step - accuracy: 0.9980 - loss: 0.0134 - val_accuracy: 0.9617 - val_loss: 0.1985\n",
            "Epoch 61/100\n",
            "\u001b[1m75/75\u001b[0m \u001b[32m━━━━━━━━━━━━━━━━━━━━\u001b[0m\u001b[37m\u001b[0m \u001b[1m2s\u001b[0m 25ms/step - accuracy: 0.9989 - loss: 0.0159 - val_accuracy: 0.9667 - val_loss: 0.1753\n",
            "Epoch 62/100\n",
            "\u001b[1m75/75\u001b[0m \u001b[32m━━━━━━━━━━━━━━━━━━━━\u001b[0m\u001b[37m\u001b[0m \u001b[1m2s\u001b[0m 26ms/step - accuracy: 0.9981 - loss: 0.0138 - val_accuracy: 0.9583 - val_loss: 0.1960\n",
            "Epoch 63/100\n",
            "\u001b[1m75/75\u001b[0m \u001b[32m━━━━━━━━━━━━━━━━━━━━\u001b[0m\u001b[37m\u001b[0m \u001b[1m2s\u001b[0m 27ms/step - accuracy: 0.9969 - loss: 0.0151 - val_accuracy: 0.9667 - val_loss: 0.1945\n",
            "Epoch 64/100\n",
            "\u001b[1m75/75\u001b[0m \u001b[32m━━━━━━━━━━━━━━━━━━━━\u001b[0m\u001b[37m\u001b[0m \u001b[1m2s\u001b[0m 28ms/step - accuracy: 0.9967 - loss: 0.0146 - val_accuracy: 0.9667 - val_loss: 0.1845\n",
            "Epoch 65/100\n",
            "\u001b[1m75/75\u001b[0m \u001b[32m━━━━━━━━━━━━━━━━━━━━\u001b[0m\u001b[37m\u001b[0m \u001b[1m2s\u001b[0m 28ms/step - accuracy: 0.9971 - loss: 0.0153 - val_accuracy: 0.9650 - val_loss: 0.2008\n",
            "Epoch 66/100\n",
            "\u001b[1m75/75\u001b[0m \u001b[32m━━━━━━━━━━━━━━━━━━━━\u001b[0m\u001b[37m\u001b[0m \u001b[1m2s\u001b[0m 28ms/step - accuracy: 0.9971 - loss: 0.0155 - val_accuracy: 0.9667 - val_loss: 0.1642\n",
            "Epoch 67/100\n",
            "\u001b[1m75/75\u001b[0m \u001b[32m━━━━━━━━━━━━━━━━━━━━\u001b[0m\u001b[37m\u001b[0m \u001b[1m2s\u001b[0m 26ms/step - accuracy: 0.9991 - loss: 0.0104 - val_accuracy: 0.9633 - val_loss: 0.1813\n",
            "Epoch 68/100\n",
            "\u001b[1m75/75\u001b[0m \u001b[32m━━━━━━━━━━━━━━━━━━━━\u001b[0m\u001b[37m\u001b[0m \u001b[1m2s\u001b[0m 27ms/step - accuracy: 0.9978 - loss: 0.0149 - val_accuracy: 0.9633 - val_loss: 0.1875\n",
            "Epoch 69/100\n",
            "\u001b[1m75/75\u001b[0m \u001b[32m━━━━━━━━━━━━━━━━━━━━\u001b[0m\u001b[37m\u001b[0m \u001b[1m2s\u001b[0m 26ms/step - accuracy: 0.9994 - loss: 0.0088 - val_accuracy: 0.9650 - val_loss: 0.1778\n",
            "Epoch 70/100\n",
            "\u001b[1m75/75\u001b[0m \u001b[32m━━━━━━━━━━━━━━━━━━━━\u001b[0m\u001b[37m\u001b[0m \u001b[1m2s\u001b[0m 26ms/step - accuracy: 0.9985 - loss: 0.0116 - val_accuracy: 0.9700 - val_loss: 0.1656\n",
            "Epoch 71/100\n",
            "\u001b[1m75/75\u001b[0m \u001b[32m━━━━━━━━━━━━━━━━━━━━\u001b[0m\u001b[37m\u001b[0m \u001b[1m2s\u001b[0m 26ms/step - accuracy: 0.9986 - loss: 0.0138 - val_accuracy: 0.9683 - val_loss: 0.1794\n",
            "Epoch 72/100\n",
            "\u001b[1m75/75\u001b[0m \u001b[32m━━━━━━━━━━━━━━━━━━━━\u001b[0m\u001b[37m\u001b[0m \u001b[1m2s\u001b[0m 26ms/step - accuracy: 0.9968 - loss: 0.0126 - val_accuracy: 0.9617 - val_loss: 0.1865\n",
            "Epoch 73/100\n",
            "\u001b[1m75/75\u001b[0m \u001b[32m━━━━━━━━━━━━━━━━━━━━\u001b[0m\u001b[37m\u001b[0m \u001b[1m2s\u001b[0m 25ms/step - accuracy: 0.9969 - loss: 0.0120 - val_accuracy: 0.9617 - val_loss: 0.2032\n",
            "Epoch 74/100\n",
            "\u001b[1m75/75\u001b[0m \u001b[32m━━━━━━━━━━━━━━━━━━━━\u001b[0m\u001b[37m\u001b[0m \u001b[1m2s\u001b[0m 26ms/step - accuracy: 0.9994 - loss: 0.0094 - val_accuracy: 0.9633 - val_loss: 0.1918\n",
            "Epoch 75/100\n",
            "\u001b[1m75/75\u001b[0m \u001b[32m━━━━━━━━━━━━━━━━━━━━\u001b[0m\u001b[37m\u001b[0m \u001b[1m2s\u001b[0m 25ms/step - accuracy: 0.9972 - loss: 0.0109 - val_accuracy: 0.9617 - val_loss: 0.2209\n",
            "Epoch 76/100\n",
            "\u001b[1m75/75\u001b[0m \u001b[32m━━━━━━━━━━━━━━━━━━━━\u001b[0m\u001b[37m\u001b[0m \u001b[1m2s\u001b[0m 25ms/step - accuracy: 0.9963 - loss: 0.0155 - val_accuracy: 0.9650 - val_loss: 0.1810\n",
            "Epoch 77/100\n",
            "\u001b[1m75/75\u001b[0m \u001b[32m━━━━━━━━━━━━━━━━━━━━\u001b[0m\u001b[37m\u001b[0m \u001b[1m2s\u001b[0m 26ms/step - accuracy: 0.9993 - loss: 0.0093 - val_accuracy: 0.9650 - val_loss: 0.1894\n",
            "Epoch 78/100\n",
            "\u001b[1m75/75\u001b[0m \u001b[32m━━━━━━━━━━━━━━━━━━━━\u001b[0m\u001b[37m\u001b[0m \u001b[1m2s\u001b[0m 26ms/step - accuracy: 0.9990 - loss: 0.0100 - val_accuracy: 0.9633 - val_loss: 0.2070\n",
            "Epoch 79/100\n",
            "\u001b[1m75/75\u001b[0m \u001b[32m━━━━━━━━━━━━━━━━━━━━\u001b[0m\u001b[37m\u001b[0m \u001b[1m2s\u001b[0m 26ms/step - accuracy: 0.9939 - loss: 0.0172 - val_accuracy: 0.9667 - val_loss: 0.1884\n",
            "Epoch 80/100\n",
            "\u001b[1m75/75\u001b[0m \u001b[32m━━━━━━━━━━━━━━━━━━━━\u001b[0m\u001b[37m\u001b[0m \u001b[1m2s\u001b[0m 25ms/step - accuracy: 0.9987 - loss: 0.0103 - val_accuracy: 0.9617 - val_loss: 0.1908\n",
            "Epoch 81/100\n",
            "\u001b[1m75/75\u001b[0m \u001b[32m━━━━━━━━━━━━━━━━━━━━\u001b[0m\u001b[37m\u001b[0m \u001b[1m2s\u001b[0m 25ms/step - accuracy: 0.9967 - loss: 0.0121 - val_accuracy: 0.9667 - val_loss: 0.1805\n",
            "Epoch 82/100\n",
            "\u001b[1m75/75\u001b[0m \u001b[32m━━━━━━━━━━━━━━━━━━━━\u001b[0m\u001b[37m\u001b[0m \u001b[1m2s\u001b[0m 26ms/step - accuracy: 0.9977 - loss: 0.0094 - val_accuracy: 0.9617 - val_loss: 0.1998\n",
            "Epoch 83/100\n",
            "\u001b[1m75/75\u001b[0m \u001b[32m━━━━━━━━━━━━━━━━━━━━\u001b[0m\u001b[37m\u001b[0m \u001b[1m2s\u001b[0m 26ms/step - accuracy: 0.9974 - loss: 0.0137 - val_accuracy: 0.9633 - val_loss: 0.2024\n",
            "Epoch 84/100\n",
            "\u001b[1m75/75\u001b[0m \u001b[32m━━━━━━━━━━━━━━━━━━━━\u001b[0m\u001b[37m\u001b[0m \u001b[1m2s\u001b[0m 28ms/step - accuracy: 0.9976 - loss: 0.0086 - val_accuracy: 0.9617 - val_loss: 0.2071\n",
            "Epoch 85/100\n",
            "\u001b[1m75/75\u001b[0m \u001b[32m━━━━━━━━━━━━━━━━━━━━\u001b[0m\u001b[37m\u001b[0m \u001b[1m2s\u001b[0m 27ms/step - accuracy: 0.9986 - loss: 0.0097 - val_accuracy: 0.9700 - val_loss: 0.1752\n",
            "Epoch 86/100\n",
            "\u001b[1m75/75\u001b[0m \u001b[32m━━━━━━━━━━━━━━━━━━━━\u001b[0m\u001b[37m\u001b[0m \u001b[1m2s\u001b[0m 26ms/step - accuracy: 0.9973 - loss: 0.0074 - val_accuracy: 0.9667 - val_loss: 0.1864\n",
            "Epoch 87/100\n",
            "\u001b[1m75/75\u001b[0m \u001b[32m━━━━━━━━━━━━━━━━━━━━\u001b[0m\u001b[37m\u001b[0m \u001b[1m2s\u001b[0m 25ms/step - accuracy: 0.9987 - loss: 0.0097 - val_accuracy: 0.9650 - val_loss: 0.1854\n",
            "Epoch 88/100\n",
            "\u001b[1m75/75\u001b[0m \u001b[32m━━━━━━━━━━━━━━━━━━━━\u001b[0m\u001b[37m\u001b[0m \u001b[1m2s\u001b[0m 26ms/step - accuracy: 0.9974 - loss: 0.0092 - val_accuracy: 0.9700 - val_loss: 0.1970\n",
            "Epoch 89/100\n",
            "\u001b[1m75/75\u001b[0m \u001b[32m━━━━━━━━━━━━━━━━━━━━\u001b[0m\u001b[37m\u001b[0m \u001b[1m2s\u001b[0m 25ms/step - accuracy: 0.9984 - loss: 0.0088 - val_accuracy: 0.9650 - val_loss: 0.1933\n",
            "Epoch 90/100\n",
            "\u001b[1m75/75\u001b[0m \u001b[32m━━━━━━━━━━━━━━━━━━━━\u001b[0m\u001b[37m\u001b[0m \u001b[1m2s\u001b[0m 26ms/step - accuracy: 0.9988 - loss: 0.0101 - val_accuracy: 0.9650 - val_loss: 0.1997\n",
            "Epoch 91/100\n",
            "\u001b[1m75/75\u001b[0m \u001b[32m━━━━━━━━━━━━━━━━━━━━\u001b[0m\u001b[37m\u001b[0m \u001b[1m2s\u001b[0m 26ms/step - accuracy: 0.9974 - loss: 0.0116 - val_accuracy: 0.9667 - val_loss: 0.2158\n",
            "Epoch 92/100\n",
            "\u001b[1m75/75\u001b[0m \u001b[32m━━━━━━━━━━━━━━━━━━━━\u001b[0m\u001b[37m\u001b[0m \u001b[1m2s\u001b[0m 26ms/step - accuracy: 0.9987 - loss: 0.0086 - val_accuracy: 0.9650 - val_loss: 0.2038\n",
            "Epoch 93/100\n",
            "\u001b[1m75/75\u001b[0m \u001b[32m━━━━━━━━━━━━━━━━━━━━\u001b[0m\u001b[37m\u001b[0m \u001b[1m2s\u001b[0m 25ms/step - accuracy: 0.9964 - loss: 0.0115 - val_accuracy: 0.9700 - val_loss: 0.1893\n",
            "Epoch 94/100\n",
            "\u001b[1m75/75\u001b[0m \u001b[32m━━━━━━━━━━━━━━━━━━━━\u001b[0m\u001b[37m\u001b[0m \u001b[1m2s\u001b[0m 25ms/step - accuracy: 1.0000 - loss: 0.0072 - val_accuracy: 0.9667 - val_loss: 0.1929\n",
            "Epoch 95/100\n",
            "\u001b[1m75/75\u001b[0m \u001b[32m━━━━━━━━━━━━━━━━━━━━\u001b[0m\u001b[37m\u001b[0m \u001b[1m2s\u001b[0m 26ms/step - accuracy: 0.9989 - loss: 0.0096 - val_accuracy: 0.9717 - val_loss: 0.1859\n",
            "Epoch 96/100\n",
            "\u001b[1m75/75\u001b[0m \u001b[32m━━━━━━━━━━━━━━━━━━━━\u001b[0m\u001b[37m\u001b[0m \u001b[1m2s\u001b[0m 26ms/step - accuracy: 0.9977 - loss: 0.0088 - val_accuracy: 0.9700 - val_loss: 0.1937\n",
            "Epoch 97/100\n",
            "\u001b[1m75/75\u001b[0m \u001b[32m━━━━━━━━━━━━━━━━━━━━\u001b[0m\u001b[37m\u001b[0m \u001b[1m2s\u001b[0m 26ms/step - accuracy: 0.9995 - loss: 0.0066 - val_accuracy: 0.9750 - val_loss: 0.1930\n",
            "Epoch 98/100\n",
            "\u001b[1m75/75\u001b[0m \u001b[32m━━━━━━━━━━━━━━━━━━━━\u001b[0m\u001b[37m\u001b[0m \u001b[1m2s\u001b[0m 28ms/step - accuracy: 0.9990 - loss: 0.0065 - val_accuracy: 0.9717 - val_loss: 0.1779\n",
            "Epoch 99/100\n",
            "\u001b[1m75/75\u001b[0m \u001b[32m━━━━━━━━━━━━━━━━━━━━\u001b[0m\u001b[37m\u001b[0m \u001b[1m2s\u001b[0m 28ms/step - accuracy: 0.9987 - loss: 0.0088 - val_accuracy: 0.9683 - val_loss: 0.2054\n",
            "Epoch 100/100\n",
            "\u001b[1m75/75\u001b[0m \u001b[32m━━━━━━━━━━━━━━━━━━━━\u001b[0m\u001b[37m\u001b[0m \u001b[1m2s\u001b[0m 25ms/step - accuracy: 0.9977 - loss: 0.0108 - val_accuracy: 0.9717 - val_loss: 0.2108\n"
          ]
        }
      ],
      "source": [
        "history = model.fit(\n",
        "    train_ds,\n",
        "    validation_data=val_ds,\n",
        "    epochs=EPOCHS\n",
        ")"
      ]
    },
    {
      "cell_type": "code",
      "execution_count": 27,
      "metadata": {},
      "outputs": [],
      "source": [
        "model.save(\"./models/lstm.keras\")"
      ]
    },
    {
      "cell_type": "code",
      "execution_count": 25,
      "metadata": {},
      "outputs": [
        {
          "name": "stdout",
          "output_type": "stream",
          "text": [
            "\u001b[1m 1/75\u001b[0m \u001b[37m━━━━━━━━━━━━━━━━━━━━\u001b[0m \u001b[1m0s\u001b[0m 12ms/step - accuracy: 1.0000 - loss: 8.0614e-06"
          ]
        },
        {
          "name": "stdout",
          "output_type": "stream",
          "text": [
            "\u001b[1m75/75\u001b[0m \u001b[32m━━━━━━━━━━━━━━━━━━━━\u001b[0m\u001b[37m\u001b[0m \u001b[1m1s\u001b[0m 9ms/step - accuracy: 1.0000 - loss: 3.3317e-05\n",
            "Train -> Loss: 0.0000   Accuracy: 1.0000\n",
            "\u001b[1m19/19\u001b[0m \u001b[32m━━━━━━━━━━━━━━━━━━━━\u001b[0m\u001b[37m\u001b[0m \u001b[1m0s\u001b[0m 9ms/step - accuracy: 0.9559 - loss: 0.3416\n",
            "Val. -> Loss: 0.2108   Accuracy: 0.9717\n"
          ]
        }
      ],
      "source": [
        "train_loss, train_acc = model.evaluate(\n",
        "    train_ds,\n",
        "    verbose=1\n",
        ")\n",
        "print(f\"Train -> Loss: {train_loss:.4f}   Accuracy: {train_acc:.4f}\")\n",
        "\n",
        "val_loss, val_acc = model.evaluate(\n",
        "    val_ds,\n",
        "    verbose=1\n",
        ")\n",
        "print(f\"Val. -> Loss: {val_loss:.4f}   Accuracy: {val_acc:.4f}\")"
      ]
    },
    {
      "cell_type": "code",
      "execution_count": 26,
      "metadata": {},
      "outputs": [
        {
          "data": {
            "image/png": "[encoded data removed]",
            "text/plain": [
              "<Figure size 640x480 with 1 Axes>"
            ]
          },
          "metadata": {},
          "output_type": "display_data"
        },
        {
          "data": {
            "image/png": "[encoded data removed]",
            "text/plain": [
              "<Figure size 640x480 with 1 Axes>"
            ]
          },
          "metadata": {},
          "output_type": "display_data"
        }
      ],
      "source": [
        "plt.figure()\n",
        "plt.plot(history.history['loss'], label='train loss')\n",
        "plt.plot(history.history['val_loss'], label='val loss')\n",
        "plt.xlabel('Epoch')\n",
        "plt.ylabel('Loss')\n",
        "plt.legend()\n",
        "plt.show()\n",
        "\n",
        "plt.figure()\n",
        "plt.plot(history.history['accuracy'], label='train acc')\n",
        "plt.plot(history.history['val_accuracy'], label='val acc')\n",
        "plt.xlabel('Epoch')\n",
        "plt.ylabel('Accuracy')\n",
        "plt.legend()\n",
        "plt.show()"
      ]
    },
    {
      "cell_type": "markdown",
      "metadata": {},
      "source": [
        "# Carga y ADA del dataset"
      ]
    }
  ],
  "metadata": {
    "accelerator": "GPU",
    "colab": {
      "gpuType": "T4",
      "provenance": []
    },
    "kernelspec": {
      "display_name": ".venv",
      "language": "python",
      "name": "python3"
    },
    "language_info": {
      "codemirror_mode": {
        "name": "ipython",
        "version": 3
      },
      "file_extension": ".py",
      "mimetype": "text/x-python",
      "name": "python",
      "nbconvert_exporter": "python",
      "pygments_lexer": "ipython3",
      "version": "3.11.11"
    }
  },
  "nbformat": 4,
  "nbformat_minor": 0
}
